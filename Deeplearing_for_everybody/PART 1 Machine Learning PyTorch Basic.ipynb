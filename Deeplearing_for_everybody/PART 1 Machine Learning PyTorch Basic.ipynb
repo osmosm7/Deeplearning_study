{
 "cells": [
  {
   "cell_type": "code",
   "execution_count": 1,
   "id": "disciplinary-subdivision",
   "metadata": {},
   "outputs": [],
   "source": [
    "import numpy as np\n",
    "import torch\n",
    "from torch import optim\n"
   ]
  },
  {
   "cell_type": "markdown",
   "id": "lonely-cleanup",
   "metadata": {},
   "source": [
    "## Numpy"
   ]
  },
  {
   "cell_type": "code",
   "execution_count": 2,
   "id": "timely-complexity",
   "metadata": {},
   "outputs": [
    {
     "name": "stdout",
     "output_type": "stream",
     "text": [
      "[0. 1. 2. 3. 4. 5. 6.]\n"
     ]
    }
   ],
   "source": [
    "t = np.array([0.,1.,2.,3.,4.,5.,6.]) \n",
    "print(t)"
   ]
  },
  {
   "cell_type": "code",
   "execution_count": 3,
   "id": "aware-taste",
   "metadata": {},
   "outputs": [
    {
     "name": "stdout",
     "output_type": "stream",
     "text": [
      "Rank of t: 1\n",
      "Shape of t: (7,)\n"
     ]
    }
   ],
   "source": [
    "print('Rank of t:', t.ndim)\n",
    "print('Shape of t:', t.shape)"
   ]
  },
  {
   "cell_type": "code",
   "execution_count": 4,
   "id": "endangered-palestinian",
   "metadata": {},
   "outputs": [
    {
     "name": "stdout",
     "output_type": "stream",
     "text": [
      "t[0] t[1] t[-1] = 0.0 1.0 6.0\n",
      "t[2:5] t[4:-1] = [2. 3. 4.] [4. 5.]\n",
      "t[:2] t[3:] = [0. 1.] [3. 4. 5. 6.]\n"
     ]
    }
   ],
   "source": [
    "print('t[0] t[1] t[-1] =' ,t[0], t[1], t[-1] )\n",
    "print('t[2:5] t[4:-1] =' ,t[2:5] ,t[4:-1] )\n",
    "print('t[:2] t[3:] =' ,t[:2] ,t[3:] )"
   ]
  },
  {
   "cell_type": "code",
   "execution_count": 5,
   "id": "magnetic-tender",
   "metadata": {},
   "outputs": [
    {
     "name": "stdout",
     "output_type": "stream",
     "text": [
      "[[ 0.1  2.   3. ]\n",
      " [ 4.   5.   6. ]\n",
      " [ 7.   8.   9. ]\n",
      " [10.  11.  12. ]]\n"
     ]
    }
   ],
   "source": [
    "t = np.array([[.1,2.,3.], [ 4.,5.,6.] , [7.,8.,9.],[10.,11.,12]])\n",
    "print(t)"
   ]
  },
  {
   "cell_type": "code",
   "execution_count": 6,
   "id": "rubber-prospect",
   "metadata": {},
   "outputs": [
    {
     "name": "stdout",
     "output_type": "stream",
     "text": [
      "Rank of t: 2\n",
      "Shape of t: (4, 3)\n"
     ]
    }
   ],
   "source": [
    "print('Rank of t:', t.ndim)\n",
    "print('Shape of t:', t.shape)"
   ]
  },
  {
   "cell_type": "markdown",
   "id": "allied-japanese",
   "metadata": {},
   "source": [
    "## Pytorch"
   ]
  },
  {
   "cell_type": "code",
   "execution_count": 7,
   "id": "tight-bedroom",
   "metadata": {},
   "outputs": [
    {
     "name": "stdout",
     "output_type": "stream",
     "text": [
      "tensor([0., 1., 2., 3., 4., 5., 6.])\n"
     ]
    }
   ],
   "source": [
    "t = torch.FloatTensor([0.,1.,2.,3.,4.,5.,6.])\n",
    "print(t)"
   ]
  },
  {
   "cell_type": "code",
   "execution_count": 8,
   "id": "sized-poverty",
   "metadata": {},
   "outputs": [
    {
     "name": "stdout",
     "output_type": "stream",
     "text": [
      "1\n",
      "torch.Size([7])\n",
      "tensor(0.) tensor(1.) tensor(6.)\n",
      "tensor([2., 3., 4.]) tensor([4., 5.])\n",
      "tensor([0., 1.]) tensor([3., 4., 5., 6.])\n"
     ]
    }
   ],
   "source": [
    "print(t.dim())\n",
    "print(t.size())\n",
    "print(t[0],t[1],t[-1])\n",
    "print(t[2:5],t[4:-1])\n",
    "print(t[:2],t[3:])"
   ]
  },
  {
   "cell_type": "markdown",
   "id": "actual-management",
   "metadata": {},
   "source": [
    "### 2D Array with PyTorch"
   ]
  },
  {
   "cell_type": "code",
   "execution_count": 9,
   "id": "dress-study",
   "metadata": {},
   "outputs": [
    {
     "name": "stdout",
     "output_type": "stream",
     "text": [
      "tensor([[ 1.,  2.,  3.],\n",
      "        [ 4.,  5.,  6.],\n",
      "        [ 7.,  8.,  9.],\n",
      "        [10., 11., 12.]])\n"
     ]
    }
   ],
   "source": [
    "t = torch.FloatTensor([[1.,2.,3.],\n",
    "                     [4.,5.,6.],\n",
    "                     [7.,8.,9.],\n",
    "                     [10.,11.,12.]])\n",
    "print(t)"
   ]
  },
  {
   "cell_type": "code",
   "execution_count": 10,
   "id": "greek-reform",
   "metadata": {},
   "outputs": [
    {
     "name": "stdout",
     "output_type": "stream",
     "text": [
      "2\n",
      "torch.Size([4, 3])\n",
      "tensor([ 2.,  5.,  8., 11.])\n",
      "torch.Size([4])\n",
      "tensor([[ 1.,  2.],\n",
      "        [ 4.,  5.],\n",
      "        [ 7.,  8.],\n",
      "        [10., 11.]])\n"
     ]
    }
   ],
   "source": [
    "print(t.dim())\n",
    "print(t.size())\n",
    "print(t[:,1])\n",
    "print(t[:,1].size())\n",
    "print(t[:,:-1])"
   ]
  },
  {
   "cell_type": "markdown",
   "id": "billion-favor",
   "metadata": {},
   "source": [
    "## Broadcasting"
   ]
  },
  {
   "cell_type": "code",
   "execution_count": 11,
   "id": "diagnostic-woman",
   "metadata": {},
   "outputs": [
    {
     "name": "stdout",
     "output_type": "stream",
     "text": [
      "tensor([5., 5.])\n"
     ]
    }
   ],
   "source": [
    "# same shape\n",
    "m1 = torch.FloatTensor([3,3])\n",
    "m2 = torch.FloatTensor([2,2])\n",
    "print(m1+m2)"
   ]
  },
  {
   "cell_type": "code",
   "execution_count": 12,
   "id": "optional-plastic",
   "metadata": {},
   "outputs": [
    {
     "name": "stdout",
     "output_type": "stream",
     "text": [
      "tensor([4., 5.])\n"
     ]
    }
   ],
   "source": [
    "#Vector +scalar\n",
    "m1 = torch.FloatTensor([1,2])\n",
    "m2 = torch.FloatTensor([3])\n",
    "print(m1+m2)"
   ]
  },
  {
   "cell_type": "code",
   "execution_count": 13,
   "id": "unnecessary-drink",
   "metadata": {},
   "outputs": [
    {
     "name": "stdout",
     "output_type": "stream",
     "text": [
      "tensor([[4., 5.],\n",
      "        [5., 6.]])\n"
     ]
    }
   ],
   "source": [
    "# 2x1 Vector + 1x2 Vector\n",
    "m1 = torch.FloatTensor([1,2])\n",
    "m2 = torch.FloatTensor([[3],[4]])\n",
    "print(m1+m2)"
   ]
  },
  {
   "cell_type": "markdown",
   "id": "universal-tower",
   "metadata": {},
   "source": [
    "## Multiplitcation vs Matrix Multiplication"
   ]
  },
  {
   "cell_type": "code",
   "execution_count": 14,
   "id": "fabulous-agreement",
   "metadata": {},
   "outputs": [
    {
     "name": "stdout",
     "output_type": "stream",
     "text": [
      "\n",
      "_______________\n",
      "Mul vs Matmul\n",
      "_______________\n",
      "Shape of Matirx 1: torch.Size([2, 2])\n",
      "Shape of Matirx 2: torch.Size([2, 1])\n",
      "tensor([[ 5.],\n",
      "        [11.]])\n",
      "Shape of Matirx 1: torch.Size([2, 2])\n",
      "Shape of Matirx 2: torch.Size([2, 1])\n",
      "tensor([[1., 2.],\n",
      "        [6., 8.]])\n",
      "tensor([[1., 2.],\n",
      "        [6., 8.]])\n"
     ]
    }
   ],
   "source": [
    "print()\n",
    "print('_______________')\n",
    "print('Mul vs Matmul')\n",
    "print('_______________')\n",
    "m1 = torch.FloatTensor([[1,2],[3,4]])\n",
    "m2 = torch.FloatTensor([[1],[2]])\n",
    "print('Shape of Matirx 1:', m1.shape) # 2x2\n",
    "print('Shape of Matirx 2:', m2.shape) # 2x1\n",
    "print(m1.matmul(m2)) #2x1\n",
    "\n",
    "m1 = torch.FloatTensor([[1,2],[3,4]])\n",
    "m2 = torch.FloatTensor([[1],[2]])\n",
    "print('Shape of Matirx 1:', m1.shape) # 2x2\n",
    "print('Shape of Matirx 2:', m2.shape) # 2x1\n",
    "print(m1*m2) #2x2\n",
    "print(m1.mul(m2))\n",
    "\n"
   ]
  },
  {
   "cell_type": "markdown",
   "id": "derived-membership",
   "metadata": {},
   "source": [
    "## Mean"
   ]
  },
  {
   "cell_type": "code",
   "execution_count": 15,
   "id": "narrative-pontiac",
   "metadata": {},
   "outputs": [
    {
     "name": "stdout",
     "output_type": "stream",
     "text": [
      "tensor(1.5000)\n"
     ]
    }
   ],
   "source": [
    "t = torch.FloatTensor([1,2])\n",
    "print(t.mean())"
   ]
  },
  {
   "cell_type": "code",
   "execution_count": 16,
   "id": "nominated-expression",
   "metadata": {},
   "outputs": [
    {
     "name": "stdout",
     "output_type": "stream",
     "text": [
      "Can only calculate the mean of floating types. Got Long instead.\n"
     ]
    }
   ],
   "source": [
    "# Cant use mean() on integers\n",
    "t = torch.LongTensor([1,2])\n",
    "try:\n",
    "    print(t.mean())\n",
    "except Exception as exc:\n",
    "    print(exc)"
   ]
  },
  {
   "cell_type": "markdown",
   "id": "expressed-scroll",
   "metadata": {},
   "source": [
    "you can also use t.mean for higher rank tensors to get mean of all elements, or mean by particular dimesion"
   ]
  },
  {
   "cell_type": "code",
   "execution_count": 17,
   "id": "personal-division",
   "metadata": {},
   "outputs": [
    {
     "name": "stdout",
     "output_type": "stream",
     "text": [
      "tensor([[1., 2.],\n",
      "        [3., 4.]])\n"
     ]
    }
   ],
   "source": [
    "t = torch.FloatTensor([[1,2],[3,4]])\n",
    "print(t)"
   ]
  },
  {
   "cell_type": "code",
   "execution_count": 18,
   "id": "attended-experiment",
   "metadata": {},
   "outputs": [
    {
     "name": "stdout",
     "output_type": "stream",
     "text": [
      "tensor(2.5000)\n",
      "tensor([2., 3.])\n",
      "tensor([1.5000, 3.5000])\n",
      "tensor([1.5000, 3.5000])\n"
     ]
    }
   ],
   "source": [
    "print(t.mean())\n",
    "print(t.mean(dim = 0))\n",
    "print(t.mean(dim = 1))\n",
    "print(t.mean(dim = -1))"
   ]
  },
  {
   "cell_type": "markdown",
   "id": "equipped-trailer",
   "metadata": {},
   "source": [
    "## Sum"
   ]
  },
  {
   "cell_type": "code",
   "execution_count": 19,
   "id": "documentary-meter",
   "metadata": {},
   "outputs": [
    {
     "name": "stdout",
     "output_type": "stream",
     "text": [
      "tensor([[1., 2.],\n",
      "        [3., 4.]])\n"
     ]
    }
   ],
   "source": [
    "t = torch.FloatTensor([[1,2],[3,4]])\n",
    "print(t)"
   ]
  },
  {
   "cell_type": "code",
   "execution_count": 20,
   "id": "thrown-commercial",
   "metadata": {},
   "outputs": [
    {
     "name": "stdout",
     "output_type": "stream",
     "text": [
      "<built-in method sum of Tensor object at 0x000001D954C3DB00>\n",
      "tensor([4., 6.])\n",
      "tensor([3., 7.])\n",
      "tensor([3., 7.])\n"
     ]
    }
   ],
   "source": [
    "print(t.sum)\n",
    "print(t.sum(dim = 0))\n",
    "print(t.sum(dim = 1))\n",
    "print(t.sum(dim = -1))"
   ]
  },
  {
   "cell_type": "markdown",
   "id": "motivated-spokesman",
   "metadata": {},
   "source": [
    "## max, Argmax"
   ]
  },
  {
   "cell_type": "code",
   "execution_count": 21,
   "id": "lightweight-innocent",
   "metadata": {},
   "outputs": [
    {
     "name": "stdout",
     "output_type": "stream",
     "text": [
      "tensor([[1., 2.],\n",
      "        [3., 4.]])\n"
     ]
    }
   ],
   "source": [
    "t = torch.FloatTensor([[1,2],[3,4]])\n",
    "print(t)"
   ]
  },
  {
   "cell_type": "markdown",
   "id": "cognitive-defeat",
   "metadata": {},
   "source": [
    "the 'max' orperator returns one value if it is called without an argument"
   ]
  },
  {
   "cell_type": "code",
   "execution_count": 22,
   "id": "initial-strength",
   "metadata": {},
   "outputs": [
    {
     "name": "stdout",
     "output_type": "stream",
     "text": [
      "tensor(4.)\n"
     ]
    }
   ],
   "source": [
    "print(t.max())"
   ]
  },
  {
   "cell_type": "markdown",
   "id": "wanted-budapest",
   "metadata": {},
   "source": [
    "The *max* operator returns 2 values when called with dimesion specified. The first value is the maximum value, and the second value is the *argmax*: the index of the element with maximum value"
   ]
  },
  {
   "cell_type": "code",
   "execution_count": 23,
   "id": "double-orchestra",
   "metadata": {},
   "outputs": [
    {
     "name": "stdout",
     "output_type": "stream",
     "text": [
      "torch.return_types.max(\n",
      "values=tensor([3., 4.]),\n",
      "indices=tensor([1, 1]))\n",
      "Max: tensor([3., 4.])\n",
      "Argmax: tensor([1, 1])\n"
     ]
    }
   ],
   "source": [
    "print(t.max(dim = 0))\n",
    "print('Max:', t.max(dim = 0)[0])\n",
    "print('Argmax:', t.max(dim = 0)[1])"
   ]
  },
  {
   "cell_type": "code",
   "execution_count": 24,
   "id": "passive-activity",
   "metadata": {},
   "outputs": [
    {
     "name": "stdout",
     "output_type": "stream",
     "text": [
      "torch.return_types.max(\n",
      "values=tensor([2., 4.]),\n",
      "indices=tensor([1, 1]))\n",
      "torch.return_types.max(\n",
      "values=tensor([2., 4.]),\n",
      "indices=tensor([1, 1]))\n"
     ]
    }
   ],
   "source": [
    "print(t.max(dim= 1))\n",
    "print(t.max(dim= -1))"
   ]
  },
  {
   "cell_type": "markdown",
   "id": "married-native",
   "metadata": {},
   "source": [
    "## View (Reshape)"
   ]
  },
  {
   "cell_type": "code",
   "execution_count": 25,
   "id": "simplified-southeast",
   "metadata": {},
   "outputs": [
    {
     "name": "stdout",
     "output_type": "stream",
     "text": [
      "torch.Size([2, 2, 3])\n"
     ]
    }
   ],
   "source": [
    "t = np.array([[[0,1,2],\n",
    "              [3,4,5]],\n",
    "             [[6,7,8],\n",
    "             [9,10,11]]])\n",
    "ft = torch.FloatTensor(t)\n",
    "print(ft.shape)"
   ]
  },
  {
   "cell_type": "code",
   "execution_count": 26,
   "id": "hispanic-clearing",
   "metadata": {},
   "outputs": [
    {
     "name": "stdout",
     "output_type": "stream",
     "text": [
      "tensor([[ 0.,  1.,  2.],\n",
      "        [ 3.,  4.,  5.],\n",
      "        [ 6.,  7.,  8.],\n",
      "        [ 9., 10., 11.]])\n",
      "torch.Size([4, 3])\n"
     ]
    }
   ],
   "source": [
    "print(ft.view([-1,3]))\n",
    "print(ft.view([-1,3]).shape)"
   ]
  },
  {
   "cell_type": "code",
   "execution_count": 27,
   "id": "strong-dietary",
   "metadata": {},
   "outputs": [
    {
     "name": "stdout",
     "output_type": "stream",
     "text": [
      "tensor([[[ 0.,  1.,  2.]],\n",
      "\n",
      "        [[ 3.,  4.,  5.]],\n",
      "\n",
      "        [[ 6.,  7.,  8.]],\n",
      "\n",
      "        [[ 9., 10., 11.]]])\n",
      "torch.Size([4, 1, 3])\n"
     ]
    }
   ],
   "source": [
    "print(ft.view([-1,1,3]))\n",
    "print(ft.view([-1,1,3]).shape)"
   ]
  },
  {
   "cell_type": "markdown",
   "id": "rough-woman",
   "metadata": {},
   "source": [
    "## Squeeze"
   ]
  },
  {
   "cell_type": "code",
   "execution_count": 28,
   "id": "bizarre-clark",
   "metadata": {},
   "outputs": [
    {
     "name": "stdout",
     "output_type": "stream",
     "text": [
      "tensor([[[0.]],\n",
      "\n",
      "        [[1.]],\n",
      "\n",
      "        [[2.]]])\n",
      "torch.Size([3, 1, 1])\n"
     ]
    }
   ],
   "source": [
    "ft = torch.FloatTensor([[[0]], [[1]],[[2]]])\n",
    "print(ft)\n",
    "print(ft.shape)\n"
   ]
  },
  {
   "cell_type": "code",
   "execution_count": 29,
   "id": "dependent-mississippi",
   "metadata": {},
   "outputs": [
    {
     "name": "stdout",
     "output_type": "stream",
     "text": [
      "tensor([0., 1., 2.])\n",
      "torch.Size([3])\n"
     ]
    }
   ],
   "source": [
    "print(ft.squeeze())\n",
    "print(ft.squeeze().shape)"
   ]
  },
  {
   "cell_type": "code",
   "execution_count": 30,
   "id": "ethical-worship",
   "metadata": {},
   "outputs": [
    {
     "name": "stdout",
     "output_type": "stream",
     "text": [
      "tensor([[0.],\n",
      "        [1.],\n",
      "        [2.]])\n",
      "torch.Size([3, 1])\n"
     ]
    }
   ],
   "source": [
    "print(ft.squeeze(dim = 1))\n",
    "print(ft.squeeze(dim = 1).shape)"
   ]
  },
  {
   "cell_type": "markdown",
   "id": "descending-moldova",
   "metadata": {},
   "source": [
    "## Unsqueeze"
   ]
  },
  {
   "cell_type": "code",
   "execution_count": 31,
   "id": "veterinary-python",
   "metadata": {},
   "outputs": [
    {
     "name": "stdout",
     "output_type": "stream",
     "text": [
      "torch.Size([3])\n"
     ]
    }
   ],
   "source": [
    "ft = torch.Tensor([0,1,2])\n",
    "print(ft.shape)"
   ]
  },
  {
   "cell_type": "code",
   "execution_count": 32,
   "id": "cutting-creation",
   "metadata": {},
   "outputs": [
    {
     "name": "stdout",
     "output_type": "stream",
     "text": [
      "tensor([[0., 1., 2.]])\n",
      "torch.Size([1, 3])\n"
     ]
    }
   ],
   "source": [
    "print(ft.unsqueeze(0))\n",
    "print(ft.unsqueeze(0).shape)"
   ]
  },
  {
   "cell_type": "code",
   "execution_count": 33,
   "id": "coordinate-prior",
   "metadata": {},
   "outputs": [
    {
     "name": "stdout",
     "output_type": "stream",
     "text": [
      "tensor([[0., 1., 2.]])\n",
      "torch.Size([1, 3])\n"
     ]
    }
   ],
   "source": [
    "print(ft.view(1,-1))\n",
    "print(ft.view(1,-1).shape)"
   ]
  },
  {
   "cell_type": "code",
   "execution_count": 34,
   "id": "familiar-electricity",
   "metadata": {},
   "outputs": [
    {
     "name": "stdout",
     "output_type": "stream",
     "text": [
      "tensor([[0.],\n",
      "        [1.],\n",
      "        [2.]])\n",
      "torch.Size([3, 1])\n"
     ]
    }
   ],
   "source": [
    "print(ft.unsqueeze(dim =1))\n",
    "print(ft.unsqueeze(dim =1).shape)"
   ]
  },
  {
   "cell_type": "code",
   "execution_count": 35,
   "id": "manufactured-minutes",
   "metadata": {},
   "outputs": [
    {
     "name": "stdout",
     "output_type": "stream",
     "text": [
      "tensor([[0.],\n",
      "        [1.],\n",
      "        [2.]])\n",
      "torch.Size([3, 1])\n"
     ]
    }
   ],
   "source": [
    "print(ft.unsqueeze(dim =-1))\n",
    "print(ft.unsqueeze(dim =-1).shape)"
   ]
  },
  {
   "cell_type": "markdown",
   "id": "acoustic-farmer",
   "metadata": {},
   "source": [
    "## Type Casting"
   ]
  },
  {
   "cell_type": "code",
   "execution_count": 36,
   "id": "dirty-tracy",
   "metadata": {},
   "outputs": [
    {
     "name": "stdout",
     "output_type": "stream",
     "text": [
      "tensor([1, 2, 3, 4])\n"
     ]
    }
   ],
   "source": [
    "lt = torch.LongTensor([1,2,3,4])\n",
    "print(lt)"
   ]
  },
  {
   "cell_type": "code",
   "execution_count": 37,
   "id": "involved-maryland",
   "metadata": {},
   "outputs": [
    {
     "name": "stdout",
     "output_type": "stream",
     "text": [
      "tensor([1., 2., 3., 4.])\n"
     ]
    }
   ],
   "source": [
    "print(lt.float())"
   ]
  },
  {
   "cell_type": "code",
   "execution_count": 38,
   "id": "eight-diversity",
   "metadata": {},
   "outputs": [
    {
     "name": "stdout",
     "output_type": "stream",
     "text": [
      "tensor([1, 0, 0, 1], dtype=torch.uint8)\n"
     ]
    }
   ],
   "source": [
    "bt = torch.ByteTensor([True,False,False,True])\n",
    "print(bt)"
   ]
  },
  {
   "cell_type": "code",
   "execution_count": 39,
   "id": "sweet-terrace",
   "metadata": {},
   "outputs": [
    {
     "name": "stdout",
     "output_type": "stream",
     "text": [
      "tensor([1, 0, 0, 1])\n",
      "tensor([1., 0., 0., 1.])\n"
     ]
    }
   ],
   "source": [
    "print(bt.long())\n",
    "print(bt.float())"
   ]
  },
  {
   "cell_type": "markdown",
   "id": "julian-secretariat",
   "metadata": {},
   "source": [
    "## Concatenate"
   ]
  },
  {
   "cell_type": "code",
   "execution_count": 40,
   "id": "abroad-provision",
   "metadata": {},
   "outputs": [],
   "source": [
    "x = torch.FloatTensor([[1,2],[3,4]])\n",
    "y = torch.FloatTensor([[5,6],[7,8]])"
   ]
  },
  {
   "cell_type": "code",
   "execution_count": 41,
   "id": "lightweight-comment",
   "metadata": {},
   "outputs": [
    {
     "name": "stdout",
     "output_type": "stream",
     "text": [
      "tensor([[1., 2.],\n",
      "        [3., 4.],\n",
      "        [5., 6.],\n",
      "        [7., 8.]])\n",
      "tensor([[1., 2., 5., 6.],\n",
      "        [3., 4., 7., 8.]])\n"
     ]
    }
   ],
   "source": [
    "print(torch.cat([x,y],dim = 0))\n",
    "print(torch.cat([x,y],dim = 1))"
   ]
  },
  {
   "cell_type": "markdown",
   "id": "coated-drain",
   "metadata": {},
   "source": [
    "## Stacking"
   ]
  },
  {
   "cell_type": "code",
   "execution_count": 42,
   "id": "boxed-carnival",
   "metadata": {},
   "outputs": [],
   "source": [
    "x = torch.FloatTensor([1,4])\n",
    "y = torch.FloatTensor([2,5])\n",
    "z = torch.FloatTensor([3,6])"
   ]
  },
  {
   "cell_type": "code",
   "execution_count": 43,
   "id": "knowing-grace",
   "metadata": {},
   "outputs": [
    {
     "name": "stdout",
     "output_type": "stream",
     "text": [
      "tensor([[1., 4.],\n",
      "        [2., 5.],\n",
      "        [3., 6.]])\n",
      "tensor([[1., 2., 3.],\n",
      "        [4., 5., 6.]])\n"
     ]
    }
   ],
   "source": [
    "print(torch.stack([x,y,z]))\n",
    "print(torch.stack([x,y,z],dim = 1))\n"
   ]
  },
  {
   "cell_type": "code",
   "execution_count": 44,
   "id": "suburban-sally",
   "metadata": {},
   "outputs": [
    {
     "name": "stdout",
     "output_type": "stream",
     "text": [
      "tensor([[1., 4.],\n",
      "        [2., 5.],\n",
      "        [3., 6.]])\n"
     ]
    }
   ],
   "source": [
    "print( torch.cat([x.unsqueeze(0),y.unsqueeze(0), z.unsqueeze(0)],dim = 0))"
   ]
  },
  {
   "cell_type": "markdown",
   "id": "textile-ireland",
   "metadata": {},
   "source": [
    "## Ones and Zeros"
   ]
  },
  {
   "cell_type": "code",
   "execution_count": 45,
   "id": "center-portugal",
   "metadata": {},
   "outputs": [
    {
     "name": "stdout",
     "output_type": "stream",
     "text": [
      "tensor([[0., 1., 2.],\n",
      "        [2., 1., 0.]])\n"
     ]
    }
   ],
   "source": [
    "x = torch.FloatTensor([[0,1,2],[2,1,0]])\n",
    "print(x)"
   ]
  },
  {
   "cell_type": "code",
   "execution_count": 46,
   "id": "applicable-founder",
   "metadata": {},
   "outputs": [
    {
     "name": "stdout",
     "output_type": "stream",
     "text": [
      "tensor([[1., 1., 1.],\n",
      "        [1., 1., 1.]])\n",
      "tensor([[0., 0., 0.],\n",
      "        [0., 0., 0.]])\n"
     ]
    }
   ],
   "source": [
    "print(torch.ones_like(x))\n",
    "print(torch.zeros_like(x))"
   ]
  },
  {
   "cell_type": "markdown",
   "id": "trained-softball",
   "metadata": {},
   "source": [
    "## In-Place Operation"
   ]
  },
  {
   "cell_type": "code",
   "execution_count": 47,
   "id": "tutorial-walker",
   "metadata": {},
   "outputs": [],
   "source": [
    "x = torch.FloatTensor([[1,2],[3,4]])"
   ]
  },
  {
   "cell_type": "code",
   "execution_count": 48,
   "id": "photographic-quilt",
   "metadata": {
    "scrolled": true
   },
   "outputs": [
    {
     "name": "stdout",
     "output_type": "stream",
     "text": [
      "tensor([[2., 4.],\n",
      "        [6., 8.]])\n",
      "tensor([[1., 2.],\n",
      "        [3., 4.]])\n",
      "tensor([[2., 4.],\n",
      "        [6., 8.]])\n",
      "tensor([[2., 4.],\n",
      "        [6., 8.]])\n"
     ]
    }
   ],
   "source": [
    "print(x.mul(2.))\n",
    "print(x)\n",
    "print(x.mul_(2.))\n",
    "print(x)"
   ]
  },
  {
   "cell_type": "markdown",
   "id": "cutting-mother",
   "metadata": {},
   "source": [
    "# 2. Linear Regression"
   ]
  },
  {
   "cell_type": "markdown",
   "id": "posted-america",
   "metadata": {},
   "source": [
    "## Data definition"
   ]
  },
  {
   "cell_type": "code",
   "execution_count": 49,
   "id": "forbidden-magnet",
   "metadata": {},
   "outputs": [],
   "source": [
    "x_train = torch.FloatTensor([[1],[2],[3]])\n",
    "y_train = torch.FloatTensor([[2],[4],[6]])"
   ]
  },
  {
   "cell_type": "markdown",
   "id": "civil-flash",
   "metadata": {},
   "source": [
    "## Hypothesis"
   ]
  },
  {
   "cell_type": "markdown",
   "id": "weekly-cleaner",
   "metadata": {},
   "source": [
    " ##### y = Wx+b "
   ]
  },
  {
   "cell_type": "code",
   "execution_count": 50,
   "id": "fresh-chain",
   "metadata": {},
   "outputs": [],
   "source": [
    "# requires_grad 공부해야함\n",
    "W = torch.zeros(1, requires_grad = True)\n",
    "b = torch.zeros(1, requires_grad = True)\n",
    "hypothesis = x_train * W +b"
   ]
  },
  {
   "attachments": {
    "image.png": {
     "image/png": "[encoded data removed]"
    }
   },
   "cell_type": "markdown",
   "id": "little-corps",
   "metadata": {},
   "source": [
    "## Loss\n",
    "![image.png](attachment:image.png)"
   ]
  },
  {
   "cell_type": "code",
   "execution_count": 51,
   "id": "delayed-gothic",
   "metadata": {},
   "outputs": [],
   "source": [
    "cost = torch.mean((hypothesis - y_train)**2)"
   ]
  },
  {
   "cell_type": "code",
   "execution_count": 52,
   "id": "adequate-detroit",
   "metadata": {},
   "outputs": [],
   "source": [
    "optimizer = optim.SGD([W,b], lr = 0.01)\n",
    "\n",
    "optimizer.zero_grad() # gradient 초기화\n",
    "cost.backward() # gardient 계산\n",
    "optimizer.step()"
   ]
  },
  {
   "cell_type": "markdown",
   "id": "hispanic-fellowship",
   "metadata": {},
   "source": [
    "## Full training code"
   ]
  },
  {
   "cell_type": "code",
   "execution_count": 53,
   "id": "legal-preserve",
   "metadata": {},
   "outputs": [],
   "source": [
    "x_train = torch.FloatTensor([[1],[2],[3]])\n",
    "y_train = torch.FloatTensor([[2],[4],[6]])\n",
    "\n",
    "# requires_grad 공부해야함\n",
    "W = torch.zeros(1, requires_grad = True)\n",
    "b = torch.zeros(1, requires_grad = True)\n",
    "\n",
    "optimizer = optim.SGD([W,b], lr = 0.01)\n",
    "\n",
    "\n",
    "nb_epochs = 10000\n",
    "for epoch in range(1,nb_epochs + 1):\n",
    "    \n",
    "    hypothesis = x_train * W +b\n",
    "    cost = torch.mean((hypothesis - y_train)**2)\n",
    "\n",
    "    \n",
    "    optimizer.zero_grad() # gradient 초기화\n",
    "    cost.backward() # gardient 계산\n",
    "    optimizer.step() "
   ]
  },
  {
   "cell_type": "code",
   "execution_count": 54,
   "id": "tamil-mixture",
   "metadata": {},
   "outputs": [
    {
     "name": "stdout",
     "output_type": "stream",
     "text": [
      "tensor([2.0000], requires_grad=True) tensor([8.7018e-06], requires_grad=True)\n"
     ]
    }
   ],
   "source": [
    "print(W,b)"
   ]
  },
  {
   "cell_type": "markdown",
   "id": "american-fifth",
   "metadata": {},
   "source": [
    "# 3. Deeper Look at GD"
   ]
  },
  {
   "cell_type": "markdown",
   "id": "hindu-denial",
   "metadata": {},
   "source": [
    "##### H(x) = Wx"
   ]
  },
  {
   "cell_type": "code",
   "execution_count": 55,
   "id": "massive-allergy",
   "metadata": {},
   "outputs": [],
   "source": [
    "W = torch.zeros(1, requires_grad = True)\n",
    "hypothesis = x_train * W"
   ]
  },
  {
   "cell_type": "code",
   "execution_count": 56,
   "id": "frequent-mounting",
   "metadata": {},
   "outputs": [],
   "source": [
    "x_train = torch.FloatTensor([[1],[2],[3]])\n",
    "y_train = torch.FloatTensor([[1],[2],[3]])"
   ]
  },
  {
   "cell_type": "markdown",
   "id": "soviet-helen",
   "metadata": {},
   "source": [
    "## Cost Function\n",
    "cost function은 모델의 예측 값이 실제 값과 얼마나 다른지 평가"
   ]
  },
  {
   "cell_type": "code",
   "execution_count": 57,
   "id": "prostate-carbon",
   "metadata": {},
   "outputs": [],
   "source": [
    "cost = torch.mean((hypothesis - y_train)**2)"
   ]
  },
  {
   "attachments": {
    "image-2.png": {
     "image/png": "[encoded data removed]"
    },
    "image.png": {
     "image/png": "[encoded data removed]"
    }
   },
   "cell_type": "markdown",
   "id": "phantom-arrow",
   "metadata": {},
   "source": [
    "## Gradient Descent 경사하강법\n",
    "![image.png](attachment:image.png)\n",
    "\n",
    "![image-2.png](attachment:image-2.png)"
   ]
  },
  {
   "cell_type": "code",
   "execution_count": 58,
   "id": "extended-pontiac",
   "metadata": {},
   "outputs": [],
   "source": [
    "gradient = 2* torch.mean((W*x_train - y_train)*x_train)"
   ]
  },
  {
   "cell_type": "markdown",
   "id": "infectious-guess",
   "metadata": {},
   "source": [
    "### Full code"
   ]
  },
  {
   "cell_type": "code",
   "execution_count": 59,
   "id": "prospective-water",
   "metadata": {},
   "outputs": [
    {
     "name": "stdout",
     "output_type": "stream",
     "text": [
      "Epoch    0/10 W: 0.000000,Cost: 4.666667\n",
      "Epoch    1/10 W: 0.933333,Cost: 0.020741\n",
      "Epoch    2/10 W: 0.995556,Cost: 0.000092\n",
      "Epoch    3/10 W: 0.999704,Cost: 0.000000\n",
      "Epoch    4/10 W: 0.999980,Cost: 0.000000\n",
      "Epoch    5/10 W: 0.999999,Cost: 0.000000\n",
      "Epoch    6/10 W: 1.000000,Cost: 0.000000\n",
      "Epoch    7/10 W: 1.000000,Cost: 0.000000\n",
      "Epoch    8/10 W: 1.000000,Cost: 0.000000\n",
      "Epoch    9/10 W: 1.000000,Cost: 0.000000\n",
      "Epoch   10/10 W: 1.000000,Cost: 0.000000\n"
     ]
    }
   ],
   "source": [
    "# data\n",
    "x_train = torch.FloatTensor([[1],[2],[3]])\n",
    "y_train = torch.FloatTensor([[1],[2],[3]])\n",
    "\n",
    "#모델 초기화\n",
    "W = torch.zeros(1)\n",
    "#Learning rate 설정\n",
    "lr = 0.1\n",
    "\n",
    "nb_epochs = 10\n",
    "\n",
    "for epoch in range(nb_epochs +1):\n",
    "    \n",
    "    #H(x) 계산\n",
    "    hypothesis = x_train * W\n",
    "    \n",
    "    # cost gradient 계산\n",
    "    cost = torch.mean((hypothesis - y_train)**2)\n",
    "    gradient = 2* torch.mean((W*x_train - y_train)*x_train)\n",
    "    \n",
    "    print('Epoch {:4d}/{} W: {:3f},Cost: {:6f}'.format(epoch,nb_epochs,W.item(),cost.item()))\n",
    "    \n",
    "    \n",
    "    #cost gradient로 H(x) 개선\n",
    "    W -= lr*gradient\n",
    "    "
   ]
  },
  {
   "cell_type": "markdown",
   "id": "proof-rough",
   "metadata": {},
   "source": [
    "## 4. Multivariate Linear Regression"
   ]
  },
  {
   "cell_type": "markdown",
   "id": "anticipated-patent",
   "metadata": {},
   "source": [
    "### Full code"
   ]
  },
  {
   "cell_type": "code",
   "execution_count": 60,
   "id": "defined-vacuum",
   "metadata": {},
   "outputs": [
    {
     "name": "stdout",
     "output_type": "stream",
     "text": [
      "Epoch    0/20 hypothesis: tensor([0., 0., 0., 0., 0.]),Cost: 29661.800781\n",
      "Epoch    1/20 hypothesis: tensor([67.2578, 80.8397, 79.6523, 86.7394, 61.6605]),Cost: 9298.520508\n",
      "Epoch    2/20 hypothesis: tensor([104.9128, 126.0990, 124.2466, 135.3015,  96.1821]),Cost: 2915.712646\n",
      "Epoch    3/20 hypothesis: tensor([125.9942, 151.4381, 149.2133, 162.4896, 115.5097]),Cost: 915.040527\n",
      "Epoch    4/20 hypothesis: tensor([137.7968, 165.6247, 163.1911, 177.7112, 126.3307]),Cost: 287.936005\n",
      "Epoch    5/20 hypothesis: tensor([144.4044, 173.5674, 171.0168, 186.2332, 132.3891]),Cost: 91.371017\n",
      "Epoch    6/20 hypothesis: tensor([148.1035, 178.0144, 175.3980, 191.0042, 135.7812]),Cost: 29.758139\n",
      "Epoch    7/20 hypothesis: tensor([150.1744, 180.5042, 177.8508, 193.6753, 137.6805]),Cost: 10.445305\n",
      "Epoch    8/20 hypothesis: tensor([151.3336, 181.8983, 179.2240, 195.1707, 138.7440]),Cost: 4.391228\n",
      "Epoch    9/20 hypothesis: tensor([151.9824, 182.6789, 179.9928, 196.0079, 139.3396]),Cost: 2.493135\n",
      "Epoch   10/20 hypothesis: tensor([152.3454, 183.1161, 180.4231, 196.4765, 139.6732]),Cost: 1.897688\n",
      "Epoch   11/20 hypothesis: tensor([152.5485, 183.3610, 180.6640, 196.7389, 139.8602]),Cost: 1.710541\n",
      "Epoch   12/20 hypothesis: tensor([152.6620, 183.4982, 180.7988, 196.8857, 139.9651]),Cost: 1.651413\n",
      "Epoch   13/20 hypothesis: tensor([152.7253, 183.5752, 180.8742, 196.9678, 140.0240]),Cost: 1.632387\n",
      "Epoch   14/20 hypothesis: tensor([152.7606, 183.6184, 180.9164, 197.0138, 140.0571]),Cost: 1.625923\n",
      "Epoch   15/20 hypothesis: tensor([152.7802, 183.6427, 180.9399, 197.0395, 140.0759]),Cost: 1.623412\n",
      "Epoch   16/20 hypothesis: tensor([152.7909, 183.6565, 180.9530, 197.0538, 140.0865]),Cost: 1.622141\n",
      "Epoch   17/20 hypothesis: tensor([152.7968, 183.6643, 180.9603, 197.0618, 140.0927]),Cost: 1.621253\n",
      "Epoch   18/20 hypothesis: tensor([152.7999, 183.6688, 180.9644, 197.0662, 140.0963]),Cost: 1.620500\n",
      "Epoch   19/20 hypothesis: tensor([152.8014, 183.6715, 180.9666, 197.0686, 140.0985]),Cost: 1.619770\n",
      "Epoch   20/20 hypothesis: tensor([152.8020, 183.6731, 180.9677, 197.0699, 140.1000]),Cost: 1.619033\n"
     ]
    }
   ],
   "source": [
    "x_train = torch.FloatTensor([[73,80,75],\n",
    "                            [93,88,93],\n",
    "                            [89,91,90],\n",
    "                            [96,98,100],\n",
    "                            [73,66,70]])\n",
    "y_train = torch.FloatTensor([[152],[185],[180],[196],[142]])\n",
    "\n",
    "# 모델 초기화\n",
    "W = torch.zeros((3,1), requires_grad = True)\n",
    "b = torch.zeros(1, requires_grad = True)\n",
    "\n",
    "# optimizer 설정\n",
    "optimizer = optim.SGD([W,b], lr = 1e-5)\n",
    "\n",
    "nb_epochs = 20\n",
    "\n",
    "for epoch in range(nb_epochs+1):\n",
    "    \n",
    "    #H(x)\n",
    "    hypothesis = x_train.matmul(W) + b\n",
    "    \n",
    "    # cost 계산\n",
    "    cost = torch.mean((y_train - hypothesis)**2)\n",
    "    \n",
    "    #cost로 H(x) 개선\n",
    "    optimizer.zero_grad()\n",
    "    cost.backward()\n",
    "    optimizer.step()\n",
    "    \n",
    "    print('Epoch {:4d}/{} hypothesis: {:},Cost: {:6f}'.format(epoch,nb_epochs,hypothesis.squeeze().detach(),cost.item()))\n"
   ]
  },
  {
   "cell_type": "markdown",
   "id": "parental-tampa",
   "metadata": {},
   "source": [
    "## 4-1 Loading Data"
   ]
  },
  {
   "cell_type": "code",
   "execution_count": 61,
   "id": "positive-cholesterol",
   "metadata": {},
   "outputs": [],
   "source": [
    "from torch.utils.data import Dataset"
   ]
  },
  {
   "cell_type": "code",
   "execution_count": 62,
   "id": "romance-amino",
   "metadata": {},
   "outputs": [],
   "source": [
    "class CustomDataset(Dataset):\n",
    "    def __init__(self):\n",
    "        self.x_data = x_train\n",
    "        self.y_data = y_train\n",
    "        \n",
    "   \n",
    "\n",
    "    # 데이터의 총 수\n",
    "    def __len__(self):\n",
    "        return len(self.x_data)\n",
    "    \n",
    "    \n",
    "    \n",
    "    # 어떤 인덱스 idx 를 받았을때, 그에 상응하는 입출력 데이터 반환\n",
    "    def __getitem__(self, idx):\n",
    "        x = torch.FloatTensor(self.x_data[idx])\n",
    "        y = torch.FloatTensor(self.y_data[idx])\n",
    "        \n",
    "        return x,y\n",
    "    \n",
    "dataset = CustomDataset()"
   ]
  },
  {
   "cell_type": "code",
   "execution_count": 63,
   "id": "dominican-aberdeen",
   "metadata": {},
   "outputs": [],
   "source": [
    "from torch.utils.data import DataLoader"
   ]
  },
  {
   "cell_type": "code",
   "execution_count": 64,
   "id": "handmade-calcium",
   "metadata": {},
   "outputs": [],
   "source": [
    "dataloader = DataLoader(\n",
    "    dataset,\n",
    "    batch_size = 2,\n",
    "    shuffle = True,) # Epoch 마다 데이터 셋을 섞어 학습 데이터를 바꿈"
   ]
  },
  {
   "cell_type": "markdown",
   "id": "short-camel",
   "metadata": {},
   "source": [
    "### Code"
   ]
  },
  {
   "cell_type": "code",
   "execution_count": 65,
   "id": "logical-million",
   "metadata": {},
   "outputs": [
    {
     "name": "stdout",
     "output_type": "stream",
     "text": [
      "Epoch    0/100 Batch: 1/3,Cost: 35408.000000\n",
      "Epoch    0/100 Batch: 2/3,Cost: 6184.100586\n",
      "Epoch    0/100 Batch: 3/3,Cost: 1776.805298\n",
      "Epoch    1/100 Batch: 1/3,Cost: 1005.863647\n",
      "Epoch    1/100 Batch: 2/3,Cost: 306.701172\n",
      "Epoch    1/100 Batch: 3/3,Cost: 133.712219\n",
      "Epoch    2/100 Batch: 1/3,Cost: 34.078957\n",
      "Epoch    2/100 Batch: 2/3,Cost: 9.719198\n",
      "Epoch    2/100 Batch: 3/3,Cost: 0.155799\n",
      "Epoch    3/100 Batch: 1/3,Cost: 3.542959\n",
      "Epoch    3/100 Batch: 2/3,Cost: 0.174914\n",
      "Epoch    3/100 Batch: 3/3,Cost: 6.279408\n",
      "Epoch    4/100 Batch: 1/3,Cost: 1.143672\n",
      "Epoch    4/100 Batch: 2/3,Cost: 1.716227\n",
      "Epoch    4/100 Batch: 3/3,Cost: 4.956086\n",
      "Epoch    5/100 Batch: 1/3,Cost: 1.611774\n",
      "Epoch    5/100 Batch: 2/3,Cost: 1.281474\n",
      "Epoch    5/100 Batch: 3/3,Cost: 4.492891\n",
      "Epoch    6/100 Batch: 1/3,Cost: 1.126231\n",
      "Epoch    6/100 Batch: 2/3,Cost: 2.469007\n",
      "Epoch    6/100 Batch: 3/3,Cost: 1.732323\n",
      "Epoch    7/100 Batch: 1/3,Cost: 2.464800\n",
      "Epoch    7/100 Batch: 2/3,Cost: 1.031790\n",
      "Epoch    7/100 Batch: 3/3,Cost: 3.499450\n",
      "Epoch    8/100 Batch: 1/3,Cost: 1.573366\n",
      "Epoch    8/100 Batch: 2/3,Cost: 2.020694\n",
      "Epoch    8/100 Batch: 3/3,Cost: 1.743185\n",
      "Epoch    9/100 Batch: 1/3,Cost: 3.627777\n",
      "Epoch    9/100 Batch: 2/3,Cost: 2.434666\n",
      "Epoch    9/100 Batch: 3/3,Cost: 0.334317\n",
      "Epoch   10/100 Batch: 1/3,Cost: 0.233656\n",
      "Epoch   10/100 Batch: 2/3,Cost: 5.359992\n",
      "Epoch   10/100 Batch: 3/3,Cost: 1.012244\n",
      "Epoch   11/100 Batch: 1/3,Cost: 2.491907\n",
      "Epoch   11/100 Batch: 2/3,Cost: 0.753323\n",
      "Epoch   11/100 Batch: 3/3,Cost: 3.096023\n",
      "Epoch   12/100 Batch: 1/3,Cost: 1.927912\n",
      "Epoch   12/100 Batch: 2/3,Cost: 2.435747\n",
      "Epoch   12/100 Batch: 3/3,Cost: 1.787666\n",
      "Epoch   13/100 Batch: 1/3,Cost: 1.151411\n",
      "Epoch   13/100 Batch: 2/3,Cost: 2.250277\n",
      "Epoch   13/100 Batch: 3/3,Cost: 2.456115\n",
      "Epoch   14/100 Batch: 1/3,Cost: 0.340954\n",
      "Epoch   14/100 Batch: 2/3,Cost: 2.037035\n",
      "Epoch   14/100 Batch: 3/3,Cost: 4.373444\n",
      "Epoch   15/100 Batch: 1/3,Cost: 1.694229\n",
      "Epoch   15/100 Batch: 2/3,Cost: 1.361853\n",
      "Epoch   15/100 Batch: 3/3,Cost: 4.332757\n",
      "Epoch   16/100 Batch: 1/3,Cost: 1.974249\n",
      "Epoch   16/100 Batch: 2/3,Cost: 2.915495\n",
      "Epoch   16/100 Batch: 3/3,Cost: 3.128757\n",
      "Epoch   17/100 Batch: 1/3,Cost: 2.554439\n",
      "Epoch   17/100 Batch: 2/3,Cost: 1.394333\n",
      "Epoch   17/100 Batch: 3/3,Cost: 0.707184\n",
      "Epoch   18/100 Batch: 1/3,Cost: 0.427979\n",
      "Epoch   18/100 Batch: 2/3,Cost: 1.957611\n",
      "Epoch   18/100 Batch: 3/3,Cost: 4.281836\n",
      "Epoch   19/100 Batch: 1/3,Cost: 1.454602\n",
      "Epoch   19/100 Batch: 2/3,Cost: 1.919474\n",
      "Epoch   19/100 Batch: 3/3,Cost: 2.435211\n",
      "Epoch   20/100 Batch: 1/3,Cost: 3.856363\n",
      "Epoch   20/100 Batch: 2/3,Cost: 1.714917\n",
      "Epoch   20/100 Batch: 3/3,Cost: 0.858428\n",
      "Epoch   21/100 Batch: 1/3,Cost: 1.972420\n",
      "Epoch   21/100 Batch: 2/3,Cost: 0.527214\n",
      "Epoch   21/100 Batch: 3/3,Cost: 5.459599\n",
      "Epoch   22/100 Batch: 1/3,Cost: 1.499833\n",
      "Epoch   22/100 Batch: 2/3,Cost: 2.197896\n",
      "Epoch   22/100 Batch: 3/3,Cost: 0.990714\n",
      "Epoch   23/100 Batch: 1/3,Cost: 1.435189\n",
      "Epoch   23/100 Batch: 2/3,Cost: 2.365450\n",
      "Epoch   23/100 Batch: 3/3,Cost: 0.736822\n",
      "Epoch   24/100 Batch: 1/3,Cost: 0.452036\n",
      "Epoch   24/100 Batch: 2/3,Cost: 1.920873\n",
      "Epoch   24/100 Batch: 3/3,Cost: 4.226131\n",
      "Epoch   25/100 Batch: 1/3,Cost: 2.218832\n",
      "Epoch   25/100 Batch: 2/3,Cost: 2.341609\n",
      "Epoch   25/100 Batch: 3/3,Cost: 1.649392\n",
      "Epoch   26/100 Batch: 1/3,Cost: 1.537780\n",
      "Epoch   26/100 Batch: 2/3,Cost: 2.393532\n",
      "Epoch   26/100 Batch: 3/3,Cost: 1.117360\n",
      "Epoch   27/100 Batch: 1/3,Cost: 2.994757\n",
      "Epoch   27/100 Batch: 2/3,Cost: 2.736418\n",
      "Epoch   27/100 Batch: 3/3,Cost: 0.352195\n",
      "Epoch   28/100 Batch: 1/3,Cost: 1.769829\n",
      "Epoch   28/100 Batch: 2/3,Cost: 2.359123\n",
      "Epoch   28/100 Batch: 3/3,Cost: 0.637176\n",
      "Epoch   29/100 Batch: 1/3,Cost: 2.532250\n",
      "Epoch   29/100 Batch: 2/3,Cost: 0.610407\n",
      "Epoch   29/100 Batch: 3/3,Cost: 3.166658\n",
      "Epoch   30/100 Batch: 1/3,Cost: 2.120069\n",
      "Epoch   30/100 Batch: 2/3,Cost: 1.475972\n",
      "Epoch   30/100 Batch: 3/3,Cost: 3.613689\n",
      "Epoch   31/100 Batch: 1/3,Cost: 1.124286\n",
      "Epoch   31/100 Batch: 2/3,Cost: 2.459136\n",
      "Epoch   31/100 Batch: 3/3,Cost: 1.830848\n",
      "Epoch   32/100 Batch: 1/3,Cost: 2.483623\n",
      "Epoch   32/100 Batch: 2/3,Cost: 1.359818\n",
      "Epoch   32/100 Batch: 3/3,Cost: 0.679035\n",
      "Epoch   33/100 Batch: 1/3,Cost: 1.514191\n",
      "Epoch   33/100 Batch: 2/3,Cost: 2.357269\n",
      "Epoch   33/100 Batch: 3/3,Cost: 0.662936\n",
      "Epoch   34/100 Batch: 1/3,Cost: 0.419283\n",
      "Epoch   34/100 Batch: 2/3,Cost: 2.814483\n",
      "Epoch   34/100 Batch: 3/3,Cost: 2.438022\n",
      "Epoch   35/100 Batch: 1/3,Cost: 2.423432\n",
      "Epoch   35/100 Batch: 2/3,Cost: 1.321005\n",
      "Epoch   35/100 Batch: 3/3,Cost: 1.021847\n",
      "Epoch   36/100 Batch: 1/3,Cost: 1.469460\n",
      "Epoch   36/100 Batch: 2/3,Cost: 2.235281\n",
      "Epoch   36/100 Batch: 3/3,Cost: 0.749423\n",
      "Epoch   37/100 Batch: 1/3,Cost: 0.412052\n",
      "Epoch   37/100 Batch: 2/3,Cost: 1.834157\n",
      "Epoch   37/100 Batch: 3/3,Cost: 4.147888\n",
      "Epoch   38/100 Batch: 1/3,Cost: 1.426420\n",
      "Epoch   38/100 Batch: 2/3,Cost: 2.338972\n",
      "Epoch   38/100 Batch: 3/3,Cost: 1.023266\n",
      "Epoch   39/100 Batch: 1/3,Cost: 0.640419\n",
      "Epoch   39/100 Batch: 2/3,Cost: 1.766872\n",
      "Epoch   39/100 Batch: 3/3,Cost: 4.020350\n",
      "Epoch   40/100 Batch: 1/3,Cost: 1.808007\n",
      "Epoch   40/100 Batch: 2/3,Cost: 1.706545\n",
      "Epoch   40/100 Batch: 3/3,Cost: 1.617410\n",
      "Epoch   41/100 Batch: 1/3,Cost: 1.569735\n",
      "Epoch   41/100 Batch: 2/3,Cost: 2.133107\n",
      "Epoch   41/100 Batch: 3/3,Cost: 1.174096\n",
      "Epoch   42/100 Batch: 1/3,Cost: 1.659434\n",
      "Epoch   42/100 Batch: 2/3,Cost: 2.172862\n",
      "Epoch   42/100 Batch: 3/3,Cost: 1.108539\n",
      "Epoch   43/100 Batch: 1/3,Cost: 1.674338\n",
      "Epoch   43/100 Batch: 2/3,Cost: 0.528391\n",
      "Epoch   43/100 Batch: 3/3,Cost: 5.013865\n",
      "Epoch   44/100 Batch: 1/3,Cost: 2.320895\n",
      "Epoch   44/100 Batch: 2/3,Cost: 1.020248\n",
      "Epoch   44/100 Batch: 3/3,Cost: 1.637381\n",
      "Epoch   45/100 Batch: 1/3,Cost: 0.487502\n",
      "Epoch   45/100 Batch: 2/3,Cost: 2.836310\n",
      "Epoch   45/100 Batch: 3/3,Cost: 2.418904\n",
      "Epoch   46/100 Batch: 1/3,Cost: 2.392138\n",
      "Epoch   46/100 Batch: 2/3,Cost: 1.303274\n",
      "Epoch   46/100 Batch: 3/3,Cost: 0.984618\n",
      "Epoch   47/100 Batch: 1/3,Cost: 2.355580\n",
      "Epoch   47/100 Batch: 2/3,Cost: 0.735617\n",
      "Epoch   47/100 Batch: 3/3,Cost: 2.879882\n",
      "Epoch   48/100 Batch: 1/3,Cost: 1.798202\n",
      "Epoch   48/100 Batch: 2/3,Cost: 2.337589\n",
      "Epoch   48/100 Batch: 3/3,Cost: 2.501182\n",
      "Epoch   49/100 Batch: 1/3,Cost: 2.144805\n",
      "Epoch   49/100 Batch: 2/3,Cost: 1.533964\n",
      "Epoch   49/100 Batch: 3/3,Cost: 0.915529\n",
      "Epoch   50/100 Batch: 1/3,Cost: 0.589824\n",
      "Epoch   50/100 Batch: 2/3,Cost: 4.226120\n",
      "Epoch   50/100 Batch: 3/3,Cost: 1.712897\n",
      "Epoch   51/100 Batch: 1/3,Cost: 1.533570\n",
      "Epoch   51/100 Batch: 2/3,Cost: 0.603206\n",
      "Epoch   51/100 Batch: 3/3,Cost: 4.834818\n",
      "Epoch   52/100 Batch: 1/3,Cost: 0.991311\n",
      "Epoch   52/100 Batch: 2/3,Cost: 1.996172\n",
      "Epoch   52/100 Batch: 3/3,Cost: 4.461509\n",
      "Epoch   53/100 Batch: 1/3,Cost: 1.774929\n",
      "Epoch   53/100 Batch: 2/3,Cost: 1.370621\n",
      "Epoch   53/100 Batch: 3/3,Cost: 2.061145\n",
      "Epoch   54/100 Batch: 1/3,Cost: 1.650667\n",
      "Epoch   54/100 Batch: 2/3,Cost: 0.514160\n",
      "Epoch   54/100 Batch: 3/3,Cost: 4.934301\n",
      "Epoch   55/100 Batch: 1/3,Cost: 1.289723\n",
      "Epoch   55/100 Batch: 2/3,Cost: 2.264847\n",
      "Epoch   55/100 Batch: 3/3,Cost: 0.877133\n",
      "Epoch   56/100 Batch: 1/3,Cost: 2.142798\n",
      "Epoch   56/100 Batch: 2/3,Cost: 1.195514\n",
      "Epoch   56/100 Batch: 3/3,Cost: 3.128002\n",
      "Epoch   57/100 Batch: 1/3,Cost: 2.301620\n",
      "Epoch   57/100 Batch: 2/3,Cost: 1.272613\n",
      "Epoch   57/100 Batch: 3/3,Cost: 2.262193\n",
      "Epoch   58/100 Batch: 1/3,Cost: 2.430584\n",
      "Epoch   58/100 Batch: 2/3,Cost: 1.345675\n",
      "Epoch   58/100 Batch: 3/3,Cost: 3.378403\n",
      "Epoch   59/100 Batch: 1/3,Cost: 2.217194\n",
      "Epoch   59/100 Batch: 2/3,Cost: 1.633204\n",
      "Epoch   59/100 Batch: 3/3,Cost: 0.978540\n",
      "Epoch   60/100 Batch: 1/3,Cost: 0.781224\n",
      "Epoch   60/100 Batch: 2/3,Cost: 4.334743\n",
      "Epoch   60/100 Batch: 3/3,Cost: 1.031184\n",
      "Epoch   61/100 Batch: 1/3,Cost: 1.318528\n",
      "Epoch   61/100 Batch: 2/3,Cost: 2.249200\n",
      "Epoch   61/100 Batch: 3/3,Cost: 0.666818\n",
      "Epoch   62/100 Batch: 1/3,Cost: 3.243642\n",
      "Epoch   62/100 Batch: 2/3,Cost: 1.761800\n",
      "Epoch   62/100 Batch: 3/3,Cost: 0.934313\n",
      "Epoch   63/100 Batch: 1/3,Cost: 2.732261\n",
      "Epoch   63/100 Batch: 2/3,Cost: 1.340783\n",
      "Epoch   63/100 Batch: 3/3,Cost: 0.918627\n",
      "Epoch   64/100 Batch: 1/3,Cost: 1.584994\n",
      "Epoch   64/100 Batch: 2/3,Cost: 0.811365\n",
      "Epoch   64/100 Batch: 3/3,Cost: 5.156037\n",
      "Epoch   65/100 Batch: 1/3,Cost: 1.771629\n",
      "Epoch   65/100 Batch: 2/3,Cost: 2.991527\n",
      "Epoch   65/100 Batch: 3/3,Cost: 0.943509\n",
      "Epoch   66/100 Batch: 1/3,Cost: 3.893982\n",
      "Epoch   66/100 Batch: 2/3,Cost: 1.989899\n",
      "Epoch   66/100 Batch: 3/3,Cost: 0.210499\n",
      "Epoch   67/100 Batch: 1/3,Cost: 1.716244\n",
      "Epoch   67/100 Batch: 2/3,Cost: 2.317719\n",
      "Epoch   67/100 Batch: 3/3,Cost: 0.497523\n",
      "Epoch   68/100 Batch: 1/3,Cost: 1.394758\n",
      "Epoch   68/100 Batch: 2/3,Cost: 0.960482\n",
      "Epoch   68/100 Batch: 3/3,Cost: 5.003075\n",
      "Epoch   69/100 Batch: 1/3,Cost: 1.490536\n",
      "Epoch   69/100 Batch: 2/3,Cost: 2.301783\n",
      "Epoch   69/100 Batch: 3/3,Cost: 1.737347\n",
      "Epoch   70/100 Batch: 1/3,Cost: 2.135881\n",
      "Epoch   70/100 Batch: 2/3,Cost: 1.904605\n",
      "Epoch   70/100 Batch: 3/3,Cost: 2.084784\n",
      "Epoch   71/100 Batch: 1/3,Cost: 0.967208\n",
      "Epoch   71/100 Batch: 2/3,Cost: 2.257201\n",
      "Epoch   71/100 Batch: 3/3,Cost: 4.203013\n",
      "Epoch   72/100 Batch: 1/3,Cost: 1.330275\n",
      "Epoch   72/100 Batch: 2/3,Cost: 2.235981\n",
      "Epoch   72/100 Batch: 3/3,Cost: 0.883433\n",
      "Epoch   73/100 Batch: 1/3,Cost: 0.742563\n",
      "Epoch   73/100 Batch: 2/3,Cost: 4.289985\n",
      "Epoch   73/100 Batch: 3/3,Cost: 0.978269\n",
      "Epoch   74/100 Batch: 1/3,Cost: 0.660944\n",
      "Epoch   74/100 Batch: 2/3,Cost: 2.520191\n",
      "Epoch   74/100 Batch: 3/3,Cost: 2.106121\n",
      "Epoch   75/100 Batch: 1/3,Cost: 2.440674\n",
      "Epoch   75/100 Batch: 2/3,Cost: 1.298547\n",
      "Epoch   75/100 Batch: 3/3,Cost: 3.280346\n",
      "Epoch   76/100 Batch: 1/3,Cost: 1.682923\n",
      "Epoch   76/100 Batch: 2/3,Cost: 2.892811\n",
      "Epoch   76/100 Batch: 3/3,Cost: 2.145007\n",
      "Epoch   77/100 Batch: 1/3,Cost: 2.082922\n",
      "Epoch   77/100 Batch: 2/3,Cost: 0.932227\n",
      "Epoch   77/100 Batch: 3/3,Cost: 2.266188\n",
      "Epoch   78/100 Batch: 1/3,Cost: 3.603164\n",
      "Epoch   78/100 Batch: 2/3,Cost: 1.517861\n",
      "Epoch   78/100 Batch: 3/3,Cost: 0.830803\n",
      "Epoch   79/100 Batch: 1/3,Cost: 4.406450\n",
      "Epoch   79/100 Batch: 2/3,Cost: 1.386528\n",
      "Epoch   79/100 Batch: 3/3,Cost: 0.451232\n",
      "Epoch   80/100 Batch: 1/3,Cost: 0.081994\n",
      "Epoch   80/100 Batch: 2/3,Cost: 2.036295\n",
      "Epoch   80/100 Batch: 3/3,Cost: 4.206079\n",
      "Epoch   81/100 Batch: 1/3,Cost: 2.053955\n",
      "Epoch   81/100 Batch: 2/3,Cost: 0.921647\n",
      "Epoch   81/100 Batch: 3/3,Cost: 2.194680\n",
      "Epoch   82/100 Batch: 1/3,Cost: 0.350500\n"
     ]
    },
    {
     "name": "stdout",
     "output_type": "stream",
     "text": [
      "Epoch   82/100 Batch: 2/3,Cost: 4.684726\n",
      "Epoch   82/100 Batch: 3/3,Cost: 0.833726\n",
      "Epoch   83/100 Batch: 1/3,Cost: 2.168733\n",
      "Epoch   83/100 Batch: 2/3,Cost: 1.344076\n",
      "Epoch   83/100 Batch: 3/3,Cost: 0.563805\n",
      "Epoch   84/100 Batch: 1/3,Cost: 2.263028\n",
      "Epoch   84/100 Batch: 2/3,Cost: 1.354702\n",
      "Epoch   84/100 Batch: 3/3,Cost: 0.518248\n",
      "Epoch   85/100 Batch: 1/3,Cost: 0.489509\n",
      "Epoch   85/100 Batch: 2/3,Cost: 4.484646\n",
      "Epoch   85/100 Batch: 3/3,Cost: 0.870486\n",
      "Epoch   86/100 Batch: 1/3,Cost: 1.289223\n",
      "Epoch   86/100 Batch: 2/3,Cost: 1.871801\n",
      "Epoch   86/100 Batch: 3/3,Cost: 1.633128\n",
      "Epoch   87/100 Batch: 1/3,Cost: 1.611454\n",
      "Epoch   87/100 Batch: 2/3,Cost: 2.026096\n",
      "Epoch   87/100 Batch: 3/3,Cost: 1.314811\n",
      "Epoch   88/100 Batch: 1/3,Cost: 0.207652\n",
      "Epoch   88/100 Batch: 2/3,Cost: 2.852776\n",
      "Epoch   88/100 Batch: 3/3,Cost: 2.484654\n",
      "Epoch   89/100 Batch: 1/3,Cost: 1.650067\n",
      "Epoch   89/100 Batch: 2/3,Cost: 2.338380\n",
      "Epoch   89/100 Batch: 3/3,Cost: 2.329797\n",
      "Epoch   90/100 Batch: 1/3,Cost: 1.534801\n",
      "Epoch   90/100 Batch: 2/3,Cost: 1.714184\n",
      "Epoch   90/100 Batch: 3/3,Cost: 1.715054\n",
      "Epoch   91/100 Batch: 1/3,Cost: 2.248071\n",
      "Epoch   91/100 Batch: 2/3,Cost: 1.070701\n",
      "Epoch   91/100 Batch: 3/3,Cost: 1.428188\n",
      "Epoch   92/100 Batch: 1/3,Cost: 2.491837\n",
      "Epoch   92/100 Batch: 2/3,Cost: 1.195037\n",
      "Epoch   92/100 Batch: 3/3,Cost: 1.223580\n",
      "Epoch   93/100 Batch: 1/3,Cost: 1.689330\n",
      "Epoch   93/100 Batch: 2/3,Cost: 0.500939\n",
      "Epoch   93/100 Batch: 3/3,Cost: 4.866543\n",
      "Epoch   94/100 Batch: 1/3,Cost: 1.217852\n",
      "Epoch   94/100 Batch: 2/3,Cost: 2.158493\n",
      "Epoch   94/100 Batch: 3/3,Cost: 0.745623\n",
      "Epoch   95/100 Batch: 1/3,Cost: 2.229421\n",
      "Epoch   95/100 Batch: 2/3,Cost: 1.045182\n",
      "Epoch   95/100 Batch: 3/3,Cost: 1.181249\n",
      "Epoch   96/100 Batch: 1/3,Cost: 1.492675\n",
      "Epoch   96/100 Batch: 2/3,Cost: 0.608634\n",
      "Epoch   96/100 Batch: 3/3,Cost: 4.706177\n",
      "Epoch   97/100 Batch: 1/3,Cost: 2.177314\n",
      "Epoch   97/100 Batch: 2/3,Cost: 1.118116\n",
      "Epoch   97/100 Batch: 3/3,Cost: 2.176183\n",
      "Epoch   98/100 Batch: 1/3,Cost: 1.613937\n",
      "Epoch   98/100 Batch: 2/3,Cost: 1.334153\n",
      "Epoch   98/100 Batch: 3/3,Cost: 2.044443\n",
      "Epoch   99/100 Batch: 1/3,Cost: 0.325439\n",
      "Epoch   99/100 Batch: 2/3,Cost: 2.722891\n",
      "Epoch   99/100 Batch: 3/3,Cost: 2.334364\n",
      "Epoch  100/100 Batch: 1/3,Cost: 1.612608\n",
      "Epoch  100/100 Batch: 2/3,Cost: 2.358191\n",
      "Epoch  100/100 Batch: 3/3,Cost: 2.279392\n"
     ]
    }
   ],
   "source": [
    "x_train = torch.FloatTensor([[73,80,75],\n",
    "                            [93,88,93],\n",
    "                            [89,91,90],\n",
    "                            [96,98,100],\n",
    "                            [73,66,70]])\n",
    "y_train = torch.FloatTensor([[152],[185],[180],[196],[142]])\n",
    "\n",
    "# 모델 초기화\n",
    "W = torch.zeros((3,1), requires_grad = True)\n",
    "b = torch.zeros(1, requires_grad = True)\n",
    "\n",
    "# optimizer 설정\n",
    "optimizer = optim.SGD([W,b], lr = 1e-5)\n",
    "\n",
    "nb_epochs = 100\n",
    "\n",
    "for epoch in range(nb_epochs+1):\n",
    "    for batch_idx, samples in enumerate(dataloader):\n",
    "        x, y = samples\n",
    "        #H(x)\n",
    "        hypothesis = x.matmul(W) + b\n",
    "\n",
    "        # cost 계산\n",
    "        cost = torch.mean((y - hypothesis)**2)\n",
    "\n",
    "        #cost로 H(x) 개선\n",
    "        optimizer.zero_grad()\n",
    "        cost.backward()\n",
    "        optimizer.step()\n",
    "\n",
    "        print('Epoch {:4d}/{} Batch: {}/{},Cost: {:6f}'.format(epoch,nb_epochs,batch_idx+1,len(dataloader),cost.item()))\n"
   ]
  },
  {
   "cell_type": "markdown",
   "id": "through-drama",
   "metadata": {},
   "source": [
    "# 5 Logistic Regression"
   ]
  },
  {
   "attachments": {
    "image-2.png": {
     "image/png": "[encoded data removed]"
    },
    "image.png": {
     "image/png": "[encoded data removed]"
    }
   },
   "cell_type": "markdown",
   "id": "former-abortion",
   "metadata": {},
   "source": [
    "![image.png](attachment:image.png)\n",
    "![image-2.png](attachment:image-2.png)"
   ]
  },
  {
   "cell_type": "markdown",
   "id": "organized-spirituality",
   "metadata": {},
   "source": [
    "#### Import"
   ]
  },
  {
   "cell_type": "code",
   "execution_count": 66,
   "id": "educated-master",
   "metadata": {},
   "outputs": [],
   "source": [
    "import torch\n",
    "import torch.nn as nn\n",
    "import torch.nn.functional as F \n",
    "import torch.optim as optim"
   ]
  },
  {
   "cell_type": "code",
   "execution_count": 67,
   "id": "consecutive-disney",
   "metadata": {},
   "outputs": [
    {
     "data": {
      "text/plain": [
       "<torch._C.Generator at 0x1d952304e90>"
      ]
     },
     "execution_count": 67,
     "metadata": {},
     "output_type": "execute_result"
    }
   ],
   "source": [
    "# For reproducibility\n",
    "torch.manual_seed(1)"
   ]
  },
  {
   "cell_type": "markdown",
   "id": "binary-envelope",
   "metadata": {},
   "source": [
    "#### Training Dataset"
   ]
  },
  {
   "cell_type": "code",
   "execution_count": 68,
   "id": "american-basics",
   "metadata": {},
   "outputs": [],
   "source": [
    "x_data = [[1,2],[2,3],[3,1],[4,3],[5,3],[6,2]]\n",
    "y_data = [[0],[0],[0],[1],[1],[1]]"
   ]
  },
  {
   "cell_type": "code",
   "execution_count": 69,
   "id": "virgin-controversy",
   "metadata": {},
   "outputs": [],
   "source": [
    "x_train = torch.FloatTensor(x_data)\n",
    "y_train = torch.FloatTensor(y_data)"
   ]
  },
  {
   "cell_type": "code",
   "execution_count": 70,
   "id": "round-college",
   "metadata": {},
   "outputs": [
    {
     "name": "stdout",
     "output_type": "stream",
     "text": [
      "torch.Size([6, 2])\n",
      "torch.Size([6, 1])\n"
     ]
    }
   ],
   "source": [
    "print(x_train.shape)\n",
    "print(y_train.shape)"
   ]
  },
  {
   "cell_type": "markdown",
   "id": "architectural-acquisition",
   "metadata": {},
   "source": [
    "#### Computing the Hypothesis"
   ]
  },
  {
   "cell_type": "code",
   "execution_count": 71,
   "id": "difficult-greeting",
   "metadata": {},
   "outputs": [
    {
     "name": "stdout",
     "output_type": "stream",
     "text": [
      "e^1 equals: tensor([2.7183])\n"
     ]
    }
   ],
   "source": [
    "# torch has torch.exp()\n",
    "print('e^1 equals:', torch.exp(torch.FloatTensor([1])))"
   ]
  },
  {
   "cell_type": "code",
   "execution_count": 72,
   "id": "encouraging-danger",
   "metadata": {},
   "outputs": [],
   "source": [
    "W = torch.zeros([2,1],requires_grad = True)\n",
    "b = torch.zeros(1,requires_grad = True)"
   ]
  },
  {
   "cell_type": "code",
   "execution_count": 73,
   "id": "adjusted-syndicate",
   "metadata": {},
   "outputs": [],
   "source": [
    "hypothesis = 1/ (1+torch.exp(-(x_train.matmul(W)+b)))"
   ]
  },
  {
   "cell_type": "code",
   "execution_count": 74,
   "id": "statutory-article",
   "metadata": {},
   "outputs": [
    {
     "name": "stdout",
     "output_type": "stream",
     "text": [
      "tensor([[0.5000],\n",
      "        [0.5000],\n",
      "        [0.5000],\n",
      "        [0.5000],\n",
      "        [0.5000],\n",
      "        [0.5000]], grad_fn=<MulBackward0>)\n",
      "torch.Size([6, 1])\n"
     ]
    }
   ],
   "source": [
    "print(hypothesis)\n",
    "print(hypothesis.shape)\n"
   ]
  },
  {
   "cell_type": "markdown",
   "id": "supreme-harmony",
   "metadata": {},
   "source": [
    "#### torch.sigmoid"
   ]
  },
  {
   "cell_type": "code",
   "execution_count": 75,
   "id": "exotic-friendship",
   "metadata": {},
   "outputs": [
    {
     "name": "stdout",
     "output_type": "stream",
     "text": [
      "1/(1+e^{-1}) equals: tensor([0.7311])\n"
     ]
    }
   ],
   "source": [
    "# torch.sigmoid\n",
    "\n",
    "print('1/(1+e^{-1}) equals:', torch.sigmoid(torch.FloatTensor([1])))"
   ]
  },
  {
   "cell_type": "code",
   "execution_count": 76,
   "id": "greek-medicine",
   "metadata": {},
   "outputs": [],
   "source": [
    "hypothesis = torch.sigmoid(x_train.matmul(W)+b)"
   ]
  },
  {
   "cell_type": "code",
   "execution_count": 77,
   "id": "unable-province",
   "metadata": {},
   "outputs": [
    {
     "name": "stdout",
     "output_type": "stream",
     "text": [
      "tensor([[0.5000],\n",
      "        [0.5000],\n",
      "        [0.5000],\n",
      "        [0.5000],\n",
      "        [0.5000],\n",
      "        [0.5000]], grad_fn=<SigmoidBackward>)\n",
      "torch.Size([6, 1])\n"
     ]
    }
   ],
   "source": [
    "print(hypothesis)\n",
    "print(hypothesis.shape)"
   ]
  },
  {
   "cell_type": "markdown",
   "id": "immediate-republic",
   "metadata": {},
   "source": [
    "#### Cost Function"
   ]
  },
  {
   "cell_type": "code",
   "execution_count": 78,
   "id": "russian-relevance",
   "metadata": {},
   "outputs": [
    {
     "name": "stdout",
     "output_type": "stream",
     "text": [
      "tensor([[0.5000],\n",
      "        [0.5000],\n",
      "        [0.5000],\n",
      "        [0.5000],\n",
      "        [0.5000],\n",
      "        [0.5000]], grad_fn=<SigmoidBackward>)\n",
      "tensor([[0.],\n",
      "        [0.],\n",
      "        [0.],\n",
      "        [1.],\n",
      "        [1.],\n",
      "        [1.]])\n"
     ]
    }
   ],
   "source": [
    "print(hypothesis)\n",
    "print(y_train)"
   ]
  },
  {
   "cell_type": "code",
   "execution_count": 79,
   "id": "cubic-matrix",
   "metadata": {},
   "outputs": [
    {
     "name": "stdout",
     "output_type": "stream",
     "text": [
      "tensor(0.6931, grad_fn=<NegBackward>)\n"
     ]
    }
   ],
   "source": [
    "cost = -torch.mean(y_train*torch.log(hypothesis) + (1-y_train)*(torch.log(1-hypothesis)))\n",
    "print(cost)"
   ]
  },
  {
   "cell_type": "code",
   "execution_count": 80,
   "id": "foreign-substitute",
   "metadata": {},
   "outputs": [
    {
     "data": {
      "text/plain": [
       "tensor(0.6931, grad_fn=<BinaryCrossEntropyBackward>)"
      ]
     },
     "execution_count": 80,
     "metadata": {},
     "output_type": "execute_result"
    }
   ],
   "source": [
    "# 위의 값\n",
    "F.binary_cross_entropy(hypothesis, y_train)"
   ]
  },
  {
   "cell_type": "markdown",
   "id": "champion-identity",
   "metadata": {},
   "source": [
    "#### Total Code"
   ]
  },
  {
   "cell_type": "code",
   "execution_count": 81,
   "id": "violent-mississippi",
   "metadata": {},
   "outputs": [
    {
     "name": "stdout",
     "output_type": "stream",
     "text": [
      "Epoch    0 / 1000 Cost:0.693147\n",
      "Epoch  100 / 1000 Cost:0.134722\n",
      "Epoch  200 / 1000 Cost:0.080643\n",
      "Epoch  300 / 1000 Cost:0.057900\n",
      "Epoch  400 / 1000 Cost:0.045300\n",
      "Epoch  500 / 1000 Cost:0.037261\n",
      "Epoch  600 / 1000 Cost:0.031673\n",
      "Epoch  700 / 1000 Cost:0.027556\n",
      "Epoch  800 / 1000 Cost:0.024394\n",
      "Epoch  900 / 1000 Cost:0.021888\n",
      "Epoch 1000 / 1000 Cost:0.019852\n"
     ]
    }
   ],
   "source": [
    "#모델 초기화 \n",
    "W = torch.zeros((2,1), requires_grad = True)\n",
    "b = torch.zeros(1, requires_grad = True)\n",
    "\n",
    "# optimizer 설정\n",
    "optimizer = optim.SGD([W,b], lr = 1)\n",
    "nb_epochs = 1000\n",
    "\n",
    "for epoch in range(nb_epochs+1):\n",
    "    \n",
    "    #Cost 계산 \n",
    "    hypothesis = torch.sigmoid(x_train.matmul(W)+b)\n",
    "    cost = F.binary_cross_entropy(hypothesis, y_train)\n",
    "    \n",
    "    #cost로 H(x)개선\n",
    "    optimizer.zero_grad()\n",
    "    cost.backward()\n",
    "    optimizer.step()\n",
    "    \n",
    "    #100번마다 로그 출력\n",
    "    if epoch % 100 ==0:\n",
    "        print('Epoch {:4d} / {} Cost:{:.6f}'.format(\n",
    "        epoch, nb_epochs, cost.item()))"
   ]
  },
  {
   "cell_type": "markdown",
   "id": "focal-compound",
   "metadata": {},
   "source": [
    "#### Evaluation"
   ]
  },
  {
   "cell_type": "code",
   "execution_count": 82,
   "id": "guided-still",
   "metadata": {},
   "outputs": [
    {
     "name": "stdout",
     "output_type": "stream",
     "text": [
      "tensor([[2.7648e-04],\n",
      "        [3.1608e-02],\n",
      "        [3.8977e-02],\n",
      "        [9.5622e-01],\n",
      "        [9.9823e-01]], grad_fn=<SliceBackward>)\n"
     ]
    }
   ],
   "source": [
    "hypothesis = torch.sigmoid(x_train.matmul(W)+b)\n",
    "print(hypothesis[:5])"
   ]
  },
  {
   "cell_type": "code",
   "execution_count": 83,
   "id": "absolute-theme",
   "metadata": {},
   "outputs": [
    {
     "name": "stdout",
     "output_type": "stream",
     "text": [
      "tensor([[False],\n",
      "        [False],\n",
      "        [False],\n",
      "        [ True],\n",
      "        [ True]])\n"
     ]
    }
   ],
   "source": [
    "prediction = hypothesis >= torch.FloatTensor([0.5])\n",
    "print(prediction[:5])"
   ]
  },
  {
   "cell_type": "markdown",
   "id": "senior-wrist",
   "metadata": {},
   "source": [
    "#### Higher Implementation with Class"
   ]
  },
  {
   "cell_type": "code",
   "execution_count": 84,
   "id": "statewide-reality",
   "metadata": {},
   "outputs": [],
   "source": [
    "class BinaryClassifier(nn.Module):\n",
    "    def __init__(self):\n",
    "        super().__init__()\n",
    "        self.linear = nn.Linear(2,1)\n",
    "        self.sigmoid = nn.Sigmoid()\n",
    "        \n",
    "    def forward(self,x):\n",
    "        return self.sigmoid(self.linear(x))"
   ]
  },
  {
   "cell_type": "code",
   "execution_count": 85,
   "id": "published-massage",
   "metadata": {},
   "outputs": [],
   "source": [
    "model = BinaryClassifier()"
   ]
  },
  {
   "cell_type": "code",
   "execution_count": 86,
   "id": "adaptive-necklace",
   "metadata": {},
   "outputs": [
    {
     "name": "stdout",
     "output_type": "stream",
     "text": [
      "Epoch    0 / 1000 Cost:0.539713 Accuracy83.33%\n",
      "Epoch  100 / 1000 Cost:0.134272 Accuracy100.00%\n",
      "Epoch  200 / 1000 Cost:0.080486 Accuracy100.00%\n",
      "Epoch  300 / 1000 Cost:0.057820 Accuracy100.00%\n",
      "Epoch  400 / 1000 Cost:0.045251 Accuracy100.00%\n",
      "Epoch  500 / 1000 Cost:0.037228 Accuracy100.00%\n",
      "Epoch  600 / 1000 Cost:0.031649 Accuracy100.00%\n",
      "Epoch  700 / 1000 Cost:0.027538 Accuracy100.00%\n",
      "Epoch  800 / 1000 Cost:0.024381 Accuracy100.00%\n",
      "Epoch  900 / 1000 Cost:0.021877 Accuracy100.00%\n",
      "Epoch 1000 / 1000 Cost:0.019843 Accuracy100.00%\n"
     ]
    }
   ],
   "source": [
    " #모델 초기화 \n",
    "W = torch.zeros((2,1), requires_grad = True)\n",
    "b = torch.zeros(1, requires_grad = True)\n",
    "\n",
    "# optimizer 설정\n",
    "optimizer = optim.SGD(model.parameters(), lr = 1)\n",
    "nb_epochs = 1000\n",
    "\n",
    "for epoch in range(nb_epochs+1):\n",
    "    \n",
    "    #Cost 계산 \n",
    "    hypothesis = model(x_train)\n",
    "    \n",
    "    cost = F.binary_cross_entropy(hypothesis, y_train)\n",
    "    \n",
    "    #cost로 H(x)개선\n",
    "    optimizer.zero_grad()\n",
    "    cost.backward()\n",
    "    optimizer.step()\n",
    "    \n",
    "    #100번마다 로그 출력\n",
    "    if epoch % 100 ==0:\n",
    "        prediction = hypothesis >= torch.FloatTensor([0.5])\n",
    "        correct_prediction = prediction.float()== y_train\n",
    "        accuracy = correct_prediction.sum().item() / len(correct_prediction)\n",
    "        print('Epoch {:4d} / {} Cost:{:.6f} Accuracy{:2.2f}%'.format(\n",
    "        epoch, nb_epochs, cost.item(), accuracy *100,))"
   ]
  },
  {
   "cell_type": "markdown",
   "id": "conscious-barbados",
   "metadata": {},
   "source": [
    "# 6 Softmax Classfication"
   ]
  },
  {
   "cell_type": "markdown",
   "id": "polar-benefit",
   "metadata": {},
   "source": [
    "#### Import"
   ]
  },
  {
   "cell_type": "code",
   "execution_count": 87,
   "id": "extended-extraction",
   "metadata": {},
   "outputs": [],
   "source": [
    "import torch\n",
    "import torch.nn as nn\n",
    "import torch.nn.functional as F \n",
    "import torch.optim as optim"
   ]
  },
  {
   "cell_type": "code",
   "execution_count": 88,
   "id": "following-scroll",
   "metadata": {},
   "outputs": [
    {
     "data": {
      "text/plain": [
       "<torch._C.Generator at 0x1d952304e90>"
      ]
     },
     "execution_count": 88,
     "metadata": {},
     "output_type": "execute_result"
    }
   ],
   "source": [
    "# For reproducibility\n",
    "torch.manual_seed(1)"
   ]
  },
  {
   "attachments": {
    "image.png": {
     "image/png": "[encoded data removed]"
    }
   },
   "cell_type": "markdown",
   "id": "welcome-comfort",
   "metadata": {},
   "source": [
    "![image.png](attachment:image.png)"
   ]
  },
  {
   "cell_type": "code",
   "execution_count": 89,
   "id": "judicial-revelation",
   "metadata": {},
   "outputs": [
    {
     "name": "stdout",
     "output_type": "stream",
     "text": [
      "tensor([0.0900, 0.2447, 0.6652])\n"
     ]
    }
   ],
   "source": [
    "z = torch.FloatTensor([1,2,3])\n",
    "hypothesis = F.softmax(z,dim = 0)\n",
    "print(hypothesis)"
   ]
  },
  {
   "cell_type": "code",
   "execution_count": 90,
   "id": "reserved-failing",
   "metadata": {},
   "outputs": [
    {
     "data": {
      "text/plain": [
       "tensor(1.)"
      ]
     },
     "execution_count": 90,
     "metadata": {},
     "output_type": "execute_result"
    }
   ],
   "source": [
    "hypothesis.sum()"
   ]
  },
  {
   "attachments": {
    "image-2.png": {
     "image/png": "[encoded data removed]"
    }
   },
   "cell_type": "markdown",
   "id": "decimal-fruit",
   "metadata": {},
   "source": [
    "![image-2.png](attachment:image-2.png)"
   ]
  },
  {
   "cell_type": "code",
   "execution_count": 91,
   "id": "persistent-negative",
   "metadata": {},
   "outputs": [
    {
     "name": "stdout",
     "output_type": "stream",
     "text": [
      "tensor([[0.2645, 0.1639, 0.1855, 0.2585, 0.1277],\n",
      "        [0.2430, 0.1624, 0.2322, 0.1930, 0.1694],\n",
      "        [0.2226, 0.1986, 0.2326, 0.1594, 0.1868]], grad_fn=<SoftmaxBackward>)\n"
     ]
    }
   ],
   "source": [
    "z = torch.rand(3,5,requires_grad = True)\n",
    "hypothesis = F.softmax(z,dim =1)\n",
    "print(hypothesis)"
   ]
  },
  {
   "cell_type": "code",
   "execution_count": 92,
   "id": "silent-siemens",
   "metadata": {},
   "outputs": [
    {
     "name": "stdout",
     "output_type": "stream",
     "text": [
      "tensor([0, 2, 1])\n"
     ]
    }
   ],
   "source": [
    "y = torch.randint(5,(3,)).long()\n",
    "print(y)"
   ]
  },
  {
   "cell_type": "code",
   "execution_count": 93,
   "id": "micro-referral",
   "metadata": {},
   "outputs": [
    {
     "data": {
      "text/plain": [
       "tensor([[1., 0., 0., 0., 0.],\n",
       "        [0., 0., 1., 0., 0.],\n",
       "        [0., 1., 0., 0., 0.]])"
      ]
     },
     "execution_count": 93,
     "metadata": {},
     "output_type": "execute_result"
    }
   ],
   "source": [
    "y_one_hot = torch.zeros_like(hypothesis)\n",
    "y_one_hot.scatter_(1, y.unsqueeze(1),1)"
   ]
  },
  {
   "cell_type": "code",
   "execution_count": 94,
   "id": "threatened-precipitation",
   "metadata": {},
   "outputs": [
    {
     "name": "stdout",
     "output_type": "stream",
     "text": [
      "tensor(1.4689, grad_fn=<MeanBackward0>)\n"
     ]
    }
   ],
   "source": [
    "cost = (y_one_hot * - torch.log(hypothesis)).sum(dim =1).mean()\n",
    "print(cost)"
   ]
  },
  {
   "cell_type": "markdown",
   "id": "atomic-jewel",
   "metadata": {},
   "source": [
    "#### Cross Entropy with torch.nn.functional"
   ]
  },
  {
   "cell_type": "code",
   "execution_count": 95,
   "id": "small-election",
   "metadata": {},
   "outputs": [
    {
     "data": {
      "text/plain": [
       "tensor([[-1.3301, -1.8084, -1.6846, -1.3530, -2.0584],\n",
       "        [-1.4147, -1.8174, -1.4602, -1.6450, -1.7758],\n",
       "        [-1.5025, -1.6165, -1.4586, -1.8360, -1.6776]],\n",
       "       grad_fn=<LogSoftmaxBackward>)"
      ]
     },
     "execution_count": 95,
     "metadata": {},
     "output_type": "execute_result"
    }
   ],
   "source": [
    "F.log_softmax(z,dim =1)"
   ]
  },
  {
   "cell_type": "code",
   "execution_count": 96,
   "id": "automatic-camera",
   "metadata": {},
   "outputs": [
    {
     "data": {
      "text/plain": [
       "tensor(1.4689, grad_fn=<NllLossBackward>)"
      ]
     },
     "execution_count": 96,
     "metadata": {},
     "output_type": "execute_result"
    }
   ],
   "source": [
    "F.nll_loss(F.log_softmax(z,dim = 1),y)"
   ]
  },
  {
   "cell_type": "code",
   "execution_count": 97,
   "id": "armed-logging",
   "metadata": {},
   "outputs": [
    {
     "data": {
      "text/plain": [
       "tensor(1.4689, grad_fn=<NllLossBackward>)"
      ]
     },
     "execution_count": 97,
     "metadata": {},
     "output_type": "execute_result"
    }
   ],
   "source": [
    "F.cross_entropy(z,y)"
   ]
  },
  {
   "cell_type": "markdown",
   "id": "broken-honey",
   "metadata": {},
   "source": [
    "### Training with Low-level Cross Entropy Loss"
   ]
  },
  {
   "cell_type": "code",
   "execution_count": 98,
   "id": "underlying-castle",
   "metadata": {},
   "outputs": [],
   "source": [
    "x_train = [[1,2,1,1],\n",
    "          [2,1,3,2],\n",
    "          [3,1,3,4],\n",
    "          [4,1,5,5],\n",
    "          [1,7,5,5],\n",
    "          [1,2,5,6],\n",
    "          [1,6,6,6],\n",
    "          [1,7,7,7]]\n",
    "y_train = [2,2,2,1,1,1,0,0]\n",
    "x_train  = torch.FloatTensor(x_train)\n",
    "y_train  = torch.LongTensor(y_train)"
   ]
  },
  {
   "cell_type": "code",
   "execution_count": 99,
   "id": "constant-negotiation",
   "metadata": {},
   "outputs": [
    {
     "name": "stdout",
     "output_type": "stream",
     "text": [
      "Epoch    0/1000 Cost: 1.098612\n",
      "Epoch  100/1000 Cost: 0.901535\n",
      "Epoch  200/1000 Cost: 0.839114\n",
      "Epoch  300/1000 Cost: 0.807826\n",
      "Epoch  400/1000 Cost: 0.788472\n",
      "Epoch  500/1000 Cost: 0.774822\n",
      "Epoch  600/1000 Cost: 0.764449\n",
      "Epoch  700/1000 Cost: 0.756191\n",
      "Epoch  800/1000 Cost: 0.749398\n",
      "Epoch  900/1000 Cost: 0.743671\n",
      "Epoch 1000/1000 Cost: 0.738749\n"
     ]
    }
   ],
   "source": [
    "#모델 초기화\n",
    "W = torch.zeros((4,3),requires_grad = True)\n",
    "b = torch.zeros(1,requires_grad = True)\n",
    "\n",
    "#optimizer 설정\n",
    "optimizer = optim.SGD([W,b],lr = 0.1)\n",
    "\n",
    "nb_epochs = 1000\n",
    "for epoch in range(nb_epochs +1):\n",
    "    \n",
    "    #Cost 계산 (1)\n",
    "    hypothesis = F.softmax(x_train.matmul(W)+b, dim = 1)\n",
    "    y_one_hot = torch.zeros_like(hypothesis)\n",
    "    y_one_hot.scatter_(1,y_train.unsqueeze(1),1)\n",
    "    cost = (y_one_hot * -torch.log(F.softmax(hypothesis, dim = 1))).sum(dim = 1).mean()\n",
    "    #cost로 H(x)개선\n",
    "    optimizer.zero_grad()\n",
    "    cost.backward()\n",
    "    optimizer.step()\n",
    "    \n",
    "    #100번 마다 로그 출력\n",
    "    if epoch%100 ==0:\n",
    "        print('Epoch {:4d}/{} Cost: {:.6f}'.format(\n",
    "        epoch, nb_epochs, cost.item()))"
   ]
  },
  {
   "cell_type": "code",
   "execution_count": null,
   "id": "familiar-house",
   "metadata": {},
   "outputs": [],
   "source": []
  },
  {
   "cell_type": "code",
   "execution_count": 100,
   "id": "typical-simple",
   "metadata": {},
   "outputs": [
    {
     "name": "stdout",
     "output_type": "stream",
     "text": [
      "Epoch    0/1000 Cost: 1.098612\n",
      "Epoch  100/1000 Cost: 0.761050\n",
      "Epoch  200/1000 Cost: 0.689991\n",
      "Epoch  300/1000 Cost: 0.643229\n",
      "Epoch  400/1000 Cost: 0.604117\n",
      "Epoch  500/1000 Cost: 0.568255\n",
      "Epoch  600/1000 Cost: 0.533922\n",
      "Epoch  700/1000 Cost: 0.500291\n",
      "Epoch  800/1000 Cost: 0.466908\n",
      "Epoch  900/1000 Cost: 0.433507\n",
      "Epoch 1000/1000 Cost: 0.399962\n"
     ]
    }
   ],
   "source": [
    "#모델 초기화\n",
    "W = torch.zeros((4,3),requires_grad = True)\n",
    "b = torch.zeros(1,requires_grad = True)\n",
    "\n",
    "#optimizer 설정\n",
    "optimizer = optim.SGD([W,b],lr = 0.1)\n",
    "\n",
    "nb_epochs = 1000\n",
    "for epoch in range(nb_epochs +1):\n",
    "    \n",
    "    z = x_train.matmul(W)+b\n",
    "    cost = F.cross_entropy(z,y_train)\n",
    "    \n",
    "    #cost로 H(x)개선\n",
    "    optimizer.zero_grad()\n",
    "    cost.backward()\n",
    "    optimizer.step()\n",
    "    \n",
    "    #100번 마다 로그 출력\n",
    "    if epoch%100 ==0:\n",
    "        print('Epoch {:4d}/{} Cost: {:.6f}'.format(\n",
    "        epoch, nb_epochs, cost.item()))"
   ]
  },
  {
   "cell_type": "code",
   "execution_count": 101,
   "id": "suffering-operation",
   "metadata": {},
   "outputs": [],
   "source": [
    "class SoftmaxClassifierModel(nn.Module):\n",
    "    def __init__(self):\n",
    "        super().__init__()\n",
    "        self.linear = nn.Linear(4,3)\n",
    "        \n",
    "    def forward(self, x):\n",
    "        return self.linear(x)"
   ]
  },
  {
   "cell_type": "code",
   "execution_count": 102,
   "id": "centered-crown",
   "metadata": {},
   "outputs": [],
   "source": [
    "model = SoftmaxClassifierModel()"
   ]
  },
  {
   "cell_type": "code",
   "execution_count": null,
   "id": "widespread-attendance",
   "metadata": {},
   "outputs": [],
   "source": []
  },
  {
   "cell_type": "code",
   "execution_count": 103,
   "id": "historical-optimum",
   "metadata": {},
   "outputs": [
    {
     "name": "stdout",
     "output_type": "stream",
     "text": [
      "Epoch    0/1000 Cost: 1.849513\n",
      "Epoch  100/1000 Cost: 0.689894\n",
      "Epoch  200/1000 Cost: 0.609258\n",
      "Epoch  300/1000 Cost: 0.551218\n",
      "Epoch  400/1000 Cost: 0.500141\n",
      "Epoch  500/1000 Cost: 0.451947\n",
      "Epoch  600/1000 Cost: 0.405051\n",
      "Epoch  700/1000 Cost: 0.358733\n",
      "Epoch  800/1000 Cost: 0.312912\n",
      "Epoch  900/1000 Cost: 0.269521\n",
      "Epoch 1000/1000 Cost: 0.241922\n"
     ]
    }
   ],
   "source": [
    "\n",
    "#optimizer 설정\n",
    "optimizer = optim.SGD(model.parameters(),lr = 0.1)\n",
    "\n",
    "nb_epochs = 1000\n",
    "for epoch in range(nb_epochs +1):\n",
    "    prediction = model(x_train)\n",
    "    \n",
    "    cost = F.cross_entropy(prediction,y_train)\n",
    "    \n",
    "    #cost로 H(x)개선\n",
    "    optimizer.zero_grad()\n",
    "    cost.backward()\n",
    "    optimizer.step()\n",
    "    \n",
    "    #100번 마다 로그 출력\n",
    "    if epoch%100 ==0:\n",
    "        print('Epoch {:4d}/{} Cost: {:.6f}'.format(\n",
    "        epoch, nb_epochs, cost.item()))"
   ]
  }
 ],
 "metadata": {
  "kernelspec": {
   "display_name": "Python 3",
   "language": "python",
   "name": "python3"
  },
  "language_info": {
   "codemirror_mode": {
    "name": "ipython",
    "version": 3
   },
   "file_extension": ".py",
   "mimetype": "text/x-python",
   "name": "python",
   "nbconvert_exporter": "python",
   "pygments_lexer": "ipython3",
   "version": "3.8.5"
  }
 },
 "nbformat": 4,
 "nbformat_minor": 5
}
